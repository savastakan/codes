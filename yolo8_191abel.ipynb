{
  "nbformat": 4,
  "nbformat_minor": 0,
  "metadata": {
    "colab": {
      "provenance": [],
      "gpuType": "T4",
      "authorship_tag": "ABX9TyMlN+FR0RHUeqhCXH66U+9M",
      "include_colab_link": true
    },
    "kernelspec": {
      "name": "python3",
      "display_name": "Python 3"
    },
    "language_info": {
      "name": "python"
    },
    "accelerator": "GPU"
  },
  "cells": [
    {
      "cell_type": "markdown",
      "metadata": {
        "id": "view-in-github",
        "colab_type": "text"
      },
      "source": [
        "<a href=\"https://colab.research.google.com/github/savastakan/codes/blob/main/yolo8_191abel.ipynb\" target=\"_parent\"><img src=\"https://colab.research.google.com/assets/colab-badge.svg\" alt=\"Open In Colab\"/></a>"
      ]
    },
    {
      "cell_type": "code",
      "execution_count": 6,
      "metadata": {
        "colab": {
          "base_uri": "https://localhost:8080/"
        },
        "id": "PAWPSGovAHoQ",
        "outputId": "87a3ef71-d815-40d9-d2d0-763137d18aa8"
      },
      "outputs": [
        {
          "output_type": "stream",
          "name": "stdout",
          "text": [
            "Drive already mounted at /content/drive; to attempt to forcibly remount, call drive.mount(\"/content/drive\", force_remount=True).\n"
          ]
        }
      ],
      "source": [
        "# Drive'a Bağlanma\n",
        "from google.colab import drive\n",
        "drive.mount(\"/content/drive\")"
      ]
    },
    {
      "cell_type": "code",
      "source": [
        "%pwd"
      ],
      "metadata": {
        "colab": {
          "base_uri": "https://localhost:8080/",
          "height": 36
        },
        "id": "_XALX_JHAbWX",
        "outputId": "d4aa435c-47bc-42cf-e0c5-21eeab799a0f"
      },
      "execution_count": null,
      "outputs": [
        {
          "output_type": "execute_result",
          "data": {
            "text/plain": [
              "'/content'"
            ],
            "application/vnd.google.colaboratory.intrinsic+json": {
              "type": "string"
            }
          },
          "metadata": {},
          "execution_count": 2
        }
      ]
    },
    {
      "cell_type": "code",
      "source": [
        "%cd /content/drive/MyDrive/Projeler/hitit_projesi/"
      ],
      "metadata": {
        "colab": {
          "base_uri": "https://localhost:8080/"
        },
        "id": "ZQDrw7UFAe3P",
        "outputId": "e4bec345-3add-4f9e-ee3c-f79feb02f481"
      },
      "execution_count": null,
      "outputs": [
        {
          "output_type": "stream",
          "name": "stdout",
          "text": [
            "/content/drive/MyDrive/Projeler/hitit_projesi\n"
          ]
        }
      ]
    },
    {
      "cell_type": "code",
      "source": [
        "# Ultralytics'i İndirme\n",
        "%pip install ultralytics\n",
        "\n",
        "import ultralytics\n",
        "ultralytics.checks()"
      ],
      "metadata": {
        "colab": {
          "base_uri": "https://localhost:8080/"
        },
        "id": "ge6Vm29gAxdD",
        "outputId": "9411ce3c-c0f7-4d18-b3bc-2f08d1400070"
      },
      "execution_count": null,
      "outputs": [
        {
          "output_type": "stream",
          "name": "stderr",
          "text": [
            "Ultralytics YOLOv8.0.207 🚀 Python-3.10.12 torch-2.1.0+cu118 CUDA:0 (Tesla T4, 15102MiB)\n",
            "Setup complete ✅ (2 CPUs, 12.7 GB RAM, 27.1/166.8 GB disk)\n"
          ]
        }
      ]
    },
    {
      "cell_type": "code",
      "source": [
        "!yolo classify train model=yolov8l-cls.pt data=dataset_with_train_test imgsz=224 workers=8 batch=16 device=0 epochs=25 name=\"yolov8_classification\""
      ],
      "metadata": {
        "colab": {
          "base_uri": "https://localhost:8080/"
        },
        "id": "Wz6MQ4I7A3gn",
        "outputId": "f060cc00-149c-4d65-8daf-3236fedc85cc"
      },
      "execution_count": null,
      "outputs": [
        {
          "output_type": "stream",
          "name": "stdout",
          "text": [
            "Ultralytics YOLOv8.0.207 🚀 Python-3.10.12 torch-2.1.0+cu118 CUDA:0 (Tesla T4, 15102MiB)\n",
            "\u001b[34m\u001b[1mengine/trainer: \u001b[0mtask=classify, mode=train, model=yolov8l-cls.pt, data=dataset_with_train_test, epochs=25, patience=50, batch=16, imgsz=224, save=True, save_period=-1, cache=False, device=0, workers=8, project=None, name=yolov8_classification, exist_ok=False, pretrained=True, optimizer=auto, verbose=True, seed=0, deterministic=True, single_cls=False, rect=False, cos_lr=False, close_mosaic=10, resume=False, amp=True, fraction=1.0, profile=False, freeze=None, overlap_mask=True, mask_ratio=4, dropout=0.0, val=True, split=val, save_json=False, save_hybrid=False, conf=None, iou=0.7, max_det=300, half=False, dnn=False, plots=True, source=None, show=False, save_txt=False, save_conf=False, save_crop=False, show_labels=True, show_conf=True, vid_stride=1, stream_buffer=False, line_width=None, visualize=False, augment=False, agnostic_nms=False, classes=None, retina_masks=False, boxes=True, format=torchscript, keras=False, optimize=False, int8=False, dynamic=False, simplify=False, opset=None, workspace=4, nms=False, lr0=0.01, lrf=0.01, momentum=0.937, weight_decay=0.0005, warmup_epochs=3.0, warmup_momentum=0.8, warmup_bias_lr=0.1, box=7.5, cls=0.5, dfl=1.5, pose=12.0, kobj=1.0, label_smoothing=0.0, nbs=64, hsv_h=0.015, hsv_s=0.7, hsv_v=0.4, degrees=0.0, translate=0.1, scale=0.5, shear=0.0, perspective=0.0, flipud=0.0, fliplr=0.5, mosaic=1.0, mixup=0.0, copy_paste=0.0, cfg=None, tracker=botsort.yaml, save_dir=runs/classify/yolov8_classification\n",
            "\u001b[34m\u001b[1mtrain:\u001b[0m /content/drive/MyDrive/Projeler/hitit_projesi/dataset_with_train_test/train... found 3930 images in 191 classes ✅ \n",
            "\u001b[34m\u001b[1mval:\u001b[0m None...\n",
            "\u001b[34m\u001b[1mtest:\u001b[0m /content/drive/MyDrive/Projeler/hitit_projesi/dataset_with_train_test/test... found 860 images in 191 classes ✅ \n",
            "2023-11-05 15:08:29.102881: E tensorflow/compiler/xla/stream_executor/cuda/cuda_dnn.cc:9342] Unable to register cuDNN factory: Attempting to register factory for plugin cuDNN when one has already been registered\n",
            "2023-11-05 15:08:29.102949: E tensorflow/compiler/xla/stream_executor/cuda/cuda_fft.cc:609] Unable to register cuFFT factory: Attempting to register factory for plugin cuFFT when one has already been registered\n",
            "2023-11-05 15:08:29.102995: E tensorflow/compiler/xla/stream_executor/cuda/cuda_blas.cc:1518] Unable to register cuBLAS factory: Attempting to register factory for plugin cuBLAS when one has already been registered\n",
            "Overriding model.yaml nc=1000 with nc=191\n",
            "\n",
            "                   from  n    params  module                                       arguments                     \n",
            "  0                  -1  1      1856  ultralytics.nn.modules.conv.Conv             [3, 64, 3, 2]                 \n",
            "  1                  -1  1     73984  ultralytics.nn.modules.conv.Conv             [64, 128, 3, 2]               \n",
            "  2                  -1  3    279808  ultralytics.nn.modules.block.C2f             [128, 128, 3, True]           \n",
            "  3                  -1  1    295424  ultralytics.nn.modules.conv.Conv             [128, 256, 3, 2]              \n",
            "  4                  -1  6   2101248  ultralytics.nn.modules.block.C2f             [256, 256, 6, True]           \n",
            "  5                  -1  1   1180672  ultralytics.nn.modules.conv.Conv             [256, 512, 3, 2]              \n",
            "  6                  -1  6   8396800  ultralytics.nn.modules.block.C2f             [512, 512, 6, True]           \n",
            "  7                  -1  1   4720640  ultralytics.nn.modules.conv.Conv             [512, 1024, 3, 2]             \n",
            "  8                  -1  3  17836032  ultralytics.nn.modules.block.C2f             [1024, 1024, 3, True]         \n",
            "  9                  -1  1   1557951  ultralytics.nn.modules.head.Classify         [1024, 191]                   \n",
            "YOLOv8l-cls summary: 183 layers, 36444415 parameters, 36444415 gradients, 99.3 GFLOPs\n",
            "Transferred 300/302 items from pretrained weights\n",
            "\u001b[34m\u001b[1mTensorBoard: \u001b[0mStart with 'tensorboard --logdir runs/classify/yolov8_classification', view at http://localhost:6006/\n",
            "\u001b[34m\u001b[1mAMP: \u001b[0mrunning Automatic Mixed Precision (AMP) checks with YOLOv8n...\n",
            "Downloading https://github.com/ultralytics/assets/releases/download/v0.0.0/yolov8n.pt to 'yolov8n.pt'...\n",
            "100% 6.23M/6.23M [00:00<00:00, 99.1MB/s]\n",
            "\u001b[34m\u001b[1mAMP: \u001b[0mchecks passed ✅\n",
            "\u001b[34m\u001b[1mtrain: \u001b[0mScanning /content/drive/MyDrive/Projeler/hitit_projesi/dataset_with_train_test/train... 3930 images, 0 corrupt: 100% 3930/3930 [23:06<00:00,  2.83it/s]\n",
            "\u001b[34m\u001b[1mtrain: \u001b[0mNew cache created: /content/drive/MyDrive/Projeler/hitit_projesi/dataset_with_train_test/train.cache\n",
            "\u001b[34m\u001b[1malbumentations: \u001b[0mRandomResizedCrop(p=1.0, height=224, width=224, scale=(0.5, 1.0), ratio=(0.75, 1.3333333333333333), interpolation=1), HorizontalFlip(p=0.5), ColorJitter(p=0.5, brightness=[0.6, 1.4], contrast=[0.6, 1.4], saturation=[0.30000000000000004, 1.7], hue=[-0.015, 0.015]), Normalize(p=1.0, mean=(0.0, 0.0, 0.0), std=(1.0, 1.0, 1.0), max_pixel_value=255.0), ToTensorV2(always_apply=True, p=1.0, transpose_mask=False)\n",
            "\u001b[34m\u001b[1mval: \u001b[0mScanning /content/drive/MyDrive/Projeler/hitit_projesi/dataset_with_train_test/test... 860 images, 0 corrupt: 100% 860/860 [05:04<00:00,  2.82it/s]\n",
            "\u001b[34m\u001b[1mval: \u001b[0mNew cache created: /content/drive/MyDrive/Projeler/hitit_projesi/dataset_with_train_test/test.cache\n",
            "\u001b[34m\u001b[1moptimizer:\u001b[0m 'optimizer=auto' found, ignoring 'lr0=0.01' and 'momentum=0.937' and determining best 'optimizer', 'lr0' and 'momentum' automatically... \n",
            "\u001b[34m\u001b[1moptimizer:\u001b[0m AdamW(lr=0.000714, momentum=0.9) with parameter groups 50 weight(decay=0.0), 51 weight(decay=0.0005), 51 bias(decay=0.0)\n",
            "Image sizes 224 train, 224 val\n",
            "Using 2 dataloader workers\n",
            "Logging results to \u001b[1mruns/classify/yolov8_classification\u001b[0m\n",
            "Starting training for 25 epochs...\n",
            "\n",
            "      Epoch    GPU_mem       loss  Instances       Size\n",
            "       1/25      1.61G      1.351         16        224:   2% 5/246 [00:02<01:16,  3.15it/s]Downloading https://ultralytics.com/assets/Arial.ttf to '/root/.config/Ultralytics/Arial.ttf'...\n",
            "       1/25      1.61G      1.346         16        224:   4% 11/246 [00:03<00:47,  4.93it/s]\n",
            "100% 755k/755k [00:00<00:00, 21.2MB/s]\n",
            "       1/25      1.64G      1.097         10        224: 100% 246/246 [00:48<00:00,  5.09it/s]\n",
            "               classes   top1_acc   top5_acc: 100% 27/27 [00:06<00:00,  4.41it/s]\n",
            "                   all       0.24      0.456\n",
            "\n",
            "      Epoch    GPU_mem       loss  Instances       Size\n",
            "       2/25      1.69G     0.6782         10        224: 100% 246/246 [00:48<00:00,  5.02it/s]\n",
            "               classes   top1_acc   top5_acc: 100% 27/27 [00:06<00:00,  4.32it/s]\n",
            "                   all      0.453      0.672\n",
            "\n",
            "      Epoch    GPU_mem       loss  Instances       Size\n",
            "       3/25      1.74G     0.5026         10        224: 100% 246/246 [00:46<00:00,  5.27it/s]\n",
            "               classes   top1_acc   top5_acc: 100% 27/27 [00:07<00:00,  3.38it/s]\n",
            "                   all      0.516      0.756\n",
            "\n",
            "      Epoch    GPU_mem       loss  Instances       Size\n",
            "       4/25      1.74G     0.3939         10        224: 100% 246/246 [00:46<00:00,  5.24it/s]\n",
            "               classes   top1_acc   top5_acc: 100% 27/27 [00:07<00:00,  3.51it/s]\n",
            "                   all      0.616      0.833\n",
            "\n",
            "      Epoch    GPU_mem       loss  Instances       Size\n",
            "       5/25       1.7G     0.3034         10        224: 100% 246/246 [00:46<00:00,  5.26it/s]\n",
            "               classes   top1_acc   top5_acc: 100% 27/27 [00:07<00:00,  3.41it/s]\n",
            "                   all       0.64      0.856\n",
            "\n",
            "      Epoch    GPU_mem       loss  Instances       Size\n",
            "       6/25      1.69G     0.2501         10        224: 100% 246/246 [00:47<00:00,  5.22it/s]\n",
            "               classes   top1_acc   top5_acc: 100% 27/27 [00:07<00:00,  3.45it/s]\n",
            "                   all      0.687      0.894\n",
            "\n",
            "      Epoch    GPU_mem       loss  Instances       Size\n",
            "       7/25      1.69G     0.2022         10        224: 100% 246/246 [00:47<00:00,  5.20it/s]\n",
            "               classes   top1_acc   top5_acc: 100% 27/27 [00:07<00:00,  3.70it/s]\n",
            "                   all      0.724      0.903\n",
            "\n",
            "      Epoch    GPU_mem       loss  Instances       Size\n",
            "       8/25      1.74G     0.1664         10        224: 100% 246/246 [00:45<00:00,  5.38it/s]\n",
            "               classes   top1_acc   top5_acc: 100% 27/27 [00:07<00:00,  3.40it/s]\n",
            "                   all      0.728      0.908\n",
            "\n",
            "      Epoch    GPU_mem       loss  Instances       Size\n",
            "       9/25      1.68G      0.142         10        224: 100% 246/246 [00:45<00:00,  5.37it/s]\n",
            "               classes   top1_acc   top5_acc: 100% 27/27 [00:07<00:00,  3.48it/s]\n",
            "                   all      0.735      0.914\n",
            "\n",
            "      Epoch    GPU_mem       loss  Instances       Size\n",
            "      10/25      1.68G     0.1186         10        224: 100% 246/246 [00:45<00:00,  5.42it/s]\n",
            "               classes   top1_acc   top5_acc: 100% 27/27 [00:07<00:00,  3.38it/s]\n",
            "                   all      0.756      0.915\n",
            "\n",
            "      Epoch    GPU_mem       loss  Instances       Size\n",
            "      11/25       1.7G     0.1081         10        224: 100% 246/246 [00:46<00:00,  5.32it/s]\n",
            "               classes   top1_acc   top5_acc: 100% 27/27 [00:08<00:00,  3.35it/s]\n",
            "                   all      0.767      0.934\n",
            "\n",
            "      Epoch    GPU_mem       loss  Instances       Size\n",
            "      12/25      1.68G    0.08394         10        224: 100% 246/246 [00:45<00:00,  5.39it/s]\n",
            "               classes   top1_acc   top5_acc: 100% 27/27 [00:07<00:00,  3.41it/s]\n",
            "                   all      0.766      0.926\n",
            "\n",
            "      Epoch    GPU_mem       loss  Instances       Size\n",
            "      13/25      1.69G    0.07577         10        224: 100% 246/246 [00:44<00:00,  5.55it/s]\n",
            "               classes   top1_acc   top5_acc: 100% 27/27 [00:06<00:00,  4.40it/s]\n",
            "                   all      0.767      0.938\n",
            "\n",
            "      Epoch    GPU_mem       loss  Instances       Size\n",
            "      14/25      1.69G    0.06162         10        224: 100% 246/246 [00:46<00:00,  5.34it/s]\n",
            "               classes   top1_acc   top5_acc: 100% 27/27 [00:06<00:00,  4.44it/s]\n",
            "                   all      0.791      0.937\n",
            "\n",
            "      Epoch    GPU_mem       loss  Instances       Size\n",
            "      15/25      1.71G    0.05781         10        224: 100% 246/246 [00:47<00:00,  5.15it/s]\n",
            "               classes   top1_acc   top5_acc: 100% 27/27 [00:06<00:00,  4.44it/s]\n",
            "                   all      0.779      0.938\n",
            "\n",
            "      Epoch    GPU_mem       loss  Instances       Size\n",
            "      16/25      1.69G    0.04912         10        224: 100% 246/246 [00:46<00:00,  5.25it/s]\n",
            "               classes   top1_acc   top5_acc: 100% 27/27 [00:07<00:00,  3.62it/s]\n",
            "                   all      0.771      0.943\n",
            "\n",
            "      Epoch    GPU_mem       loss  Instances       Size\n",
            "      17/25       1.7G    0.04565         10        224: 100% 246/246 [00:45<00:00,  5.46it/s]\n",
            "               classes   top1_acc   top5_acc: 100% 27/27 [00:07<00:00,  3.43it/s]\n",
            "                   all      0.785      0.944\n",
            "\n",
            "      Epoch    GPU_mem       loss  Instances       Size\n",
            "      18/25       1.7G    0.03407         10        224: 100% 246/246 [00:46<00:00,  5.30it/s]\n",
            "               classes   top1_acc   top5_acc: 100% 27/27 [00:07<00:00,  3.48it/s]\n",
            "                   all      0.797      0.948\n",
            "\n",
            "      Epoch    GPU_mem       loss  Instances       Size\n",
            "      19/25      1.69G    0.02862         10        224: 100% 246/246 [00:46<00:00,  5.27it/s]\n",
            "               classes   top1_acc   top5_acc: 100% 27/27 [00:07<00:00,  3.60it/s]\n",
            "                   all      0.802      0.942\n",
            "\n",
            "      Epoch    GPU_mem       loss  Instances       Size\n",
            "      20/25      1.68G    0.02946         10        224: 100% 246/246 [00:46<00:00,  5.32it/s]\n",
            "               classes   top1_acc   top5_acc: 100% 27/27 [00:07<00:00,  3.45it/s]\n",
            "                   all      0.802      0.941\n",
            "\n",
            "      Epoch    GPU_mem       loss  Instances       Size\n",
            "      21/25       1.7G    0.02217         10        224: 100% 246/246 [00:46<00:00,  5.35it/s]\n",
            "               classes   top1_acc   top5_acc: 100% 27/27 [00:08<00:00,  3.32it/s]\n",
            "                   all      0.809      0.944\n",
            "\n",
            "      Epoch    GPU_mem       loss  Instances       Size\n",
            "      22/25      1.74G    0.02288         10        224: 100% 246/246 [00:47<00:00,  5.18it/s]\n",
            "               classes   top1_acc   top5_acc: 100% 27/27 [00:07<00:00,  3.61it/s]\n",
            "                   all      0.817      0.953\n",
            "\n",
            "      Epoch    GPU_mem       loss  Instances       Size\n",
            "      23/25      1.69G     0.0197         10        224: 100% 246/246 [00:47<00:00,  5.16it/s]\n",
            "               classes   top1_acc   top5_acc: 100% 27/27 [00:07<00:00,  3.72it/s]\n",
            "                   all      0.815      0.949\n",
            "\n",
            "      Epoch    GPU_mem       loss  Instances       Size\n",
            "      24/25      1.74G    0.01457         10        224: 100% 246/246 [00:45<00:00,  5.39it/s]\n",
            "               classes   top1_acc   top5_acc: 100% 27/27 [00:07<00:00,  3.45it/s]\n",
            "                   all      0.814      0.952\n",
            "\n",
            "      Epoch    GPU_mem       loss  Instances       Size\n",
            "      25/25      1.69G    0.01652         10        224: 100% 246/246 [00:44<00:00,  5.50it/s]\n",
            "               classes   top1_acc   top5_acc: 100% 27/27 [00:06<00:00,  4.48it/s]\n",
            "                   all       0.82      0.951\n",
            "\n",
            "25 epochs completed in 0.406 hours.\n",
            "Optimizer stripped from runs/classify/yolov8_classification/weights/last.pt, 73.1MB\n",
            "Optimizer stripped from runs/classify/yolov8_classification/weights/best.pt, 73.1MB\n",
            "\n",
            "Validating runs/classify/yolov8_classification/weights/best.pt...\n",
            "Ultralytics YOLOv8.0.207 🚀 Python-3.10.12 torch-2.1.0+cu118 CUDA:0 (Tesla T4, 15102MiB)\n",
            "YOLOv8l-cls summary (fused): 133 layers, 36429247 parameters, 0 gradients, 98.9 GFLOPs\n",
            "WARNING ⚠️ Dataset 'split=val' not found, using 'split=test' instead.\n",
            "\u001b[34m\u001b[1mtrain:\u001b[0m /content/drive/MyDrive/Projeler/hitit_projesi/dataset_with_train_test/train... found 3930 images in 191 classes ✅ \n",
            "\u001b[34m\u001b[1mval:\u001b[0m None...\n",
            "\u001b[34m\u001b[1mtest:\u001b[0m /content/drive/MyDrive/Projeler/hitit_projesi/dataset_with_train_test/test... found 860 images in 191 classes ✅ \n",
            "               classes   top1_acc   top5_acc:  19% 5/27 [00:00<00:03,  5.75it/s]Downloading https://ultralytics.com/assets/Arial.Unicode.ttf to '/root/.config/Ultralytics/Arial.Unicode.ttf'...\n",
            "               classes   top1_acc   top5_acc:  33% 9/27 [00:01<00:03,  4.50it/s]\n",
            "  0% 0.00/22.2M [00:00<?, ?B/s]\u001b[A\n",
            "100% 22.2M/22.2M [00:00<00:00, 174MB/s]\n",
            "               classes   top1_acc   top5_acc: 100% 27/27 [00:06<00:00,  4.14it/s]\n",
            "                   all       0.82      0.951\n",
            "Speed: 0.1ms preprocess, 1.5ms inference, 0.0ms loss, 0.0ms postprocess per image\n",
            "Results saved to \u001b[1mruns/classify/yolov8_classification\u001b[0m\n",
            "Results saved to \u001b[1mruns/classify/yolov8_classification\u001b[0m\n",
            "💡 Learn more at https://docs.ultralytics.com/modes/train\n"
          ]
        }
      ]
    }
  ]
}