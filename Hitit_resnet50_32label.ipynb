{
  "nbformat": 4,
  "nbformat_minor": 0,
  "metadata": {
    "colab": {
      "provenance": [],
      "gpuType": "T4",
      "authorship_tag": "ABX9TyMQX8qh+o7xbh+5Kw9WwksJ",
      "include_colab_link": true
    },
    "kernelspec": {
      "name": "python3",
      "display_name": "Python 3"
    },
    "language_info": {
      "name": "python"
    },
    "accelerator": "GPU"
  },
  "cells": [
    {
      "cell_type": "markdown",
      "metadata": {
        "id": "view-in-github",
        "colab_type": "text"
      },
      "source": [
        "<a href=\"https://colab.research.google.com/github/savastakan/codes/blob/main/Hitit_resnet50_32label.ipynb\" target=\"_parent\"><img src=\"https://colab.research.google.com/assets/colab-badge.svg\" alt=\"Open In Colab\"/></a>"
      ]
    },
    {
      "cell_type": "code",
      "execution_count": 8,
      "metadata": {
        "id": "4MUfirDj-KNM"
      },
      "outputs": [],
      "source": [
        "import tensorflow as tf\n",
        "from tensorflow.keras.layers import Flatten, Dense\n",
        "from tensorflow.keras.models import Sequential\n",
        "from tensorflow.keras.optimizers import Adam"
      ]
    },
    {
      "cell_type": "code",
      "source": [
        "from google.colab import drive\n",
        "drive.mount('/content/drive')\n"
      ],
      "metadata": {
        "colab": {
          "base_uri": "https://localhost:8080/"
        },
        "id": "xtNhKpFy-yuU",
        "outputId": "a929a9ec-ab50-42c5-b94d-946e65fb3cac"
      },
      "execution_count": 9,
      "outputs": [
        {
          "output_type": "stream",
          "name": "stdout",
          "text": [
            "Drive already mounted at /content/drive; to attempt to forcibly remount, call drive.mount(\"/content/drive\", force_remount=True).\n"
          ]
        }
      ]
    },
    {
      "cell_type": "code",
      "source": [
        "import pathlib\n",
        "data_directory = pathlib.Path(\"/content/drive/MyDrive/Projeler/hitit_projesi/subdataset\")"
      ],
      "metadata": {
        "id": "yM_htuLiCY9R"
      },
      "execution_count": 10,
      "outputs": []
    },
    {
      "cell_type": "code",
      "source": [
        "img_height,img_width=280, 280\n",
        "batch_size=32\n",
        "\n",
        "train_ds = tf.keras.preprocessing.image_dataset_from_directory(\n",
        "  data_directory,\n",
        "  validation_split=0.2,\n",
        "  subset=\"training\",\n",
        "  seed=42,\n",
        "  label_mode='categorical',\n",
        "  image_size=(img_height, img_width),\n",
        "  batch_size=batch_size)\n",
        "\n",
        "validation_ds = tf.keras.preprocessing.image_dataset_from_directory(\n",
        "  data_directory,\n",
        "  validation_split=0.2,\n",
        "  subset=\"validation\",\n",
        "  seed=42,\n",
        "  label_mode='categorical',\n",
        "  image_size=(img_height, img_width),\n",
        "  batch_size=batch_size)"
      ],
      "metadata": {
        "colab": {
          "base_uri": "https://localhost:8080/"
        },
        "id": "CReAjyTY-UWi",
        "outputId": "60550774-625e-4a9e-a51b-3acc92601cfd"
      },
      "execution_count": 11,
      "outputs": [
        {
          "output_type": "stream",
          "name": "stdout",
          "text": [
            "Found 3117 files belonging to 32 classes.\n",
            "Using 2494 files for training.\n",
            "Found 3117 files belonging to 32 classes.\n",
            "Using 623 files for validation.\n"
          ]
        }
      ]
    },
    {
      "cell_type": "code",
      "source": [
        "model = Sequential()\n",
        "n_classes = 32\n",
        "pretrained_model= tf.keras.applications.ResNet50(include_top=False, input_shape=(280,280,3), pooling='avg',classes= n_classes, weights='imagenet')\n",
        "\n",
        "for each_layer in pretrained_model.layers:\n",
        "        each_layer.trainable=False\n",
        "\n",
        "model.add(pretrained_model)\n",
        "\n",
        "model.add(Flatten())\n",
        "\n",
        "model.add(Dense(512, activation='relu'))\n",
        "\n",
        "model.add(Dense(n_classes, activation='softmax'))"
      ],
      "metadata": {
        "colab": {
          "base_uri": "https://localhost:8080/"
        },
        "id": "d0vtbSTUFSk1",
        "outputId": "fbcad0cb-3bea-48e6-dd96-9bb0629c7dfa"
      },
      "execution_count": 14,
      "outputs": [
        {
          "output_type": "stream",
          "name": "stdout",
          "text": [
            "Downloading data from https://storage.googleapis.com/tensorflow/keras-applications/resnet/resnet50_weights_tf_dim_ordering_tf_kernels_notop.h5\n",
            "94765736/94765736 [==============================] - 1s 0us/step\n"
          ]
        }
      ]
    },
    {
      "cell_type": "code",
      "source": [
        "model.compile(optimizer=Adam(learning_rate=0.001),loss='categorical_crossentropy',metrics=['accuracy'])\n",
        "\n",
        "history = model.fit(train_ds, validation_data=validation_ds, epochs=10)"
      ],
      "metadata": {
        "colab": {
          "base_uri": "https://localhost:8080/"
        },
        "id": "GnSP0tVLZH8P",
        "outputId": "43215bbb-5559-4870-a8da-25c49dad84a8"
      },
      "execution_count": 15,
      "outputs": [
        {
          "output_type": "stream",
          "name": "stdout",
          "text": [
            "Epoch 1/10\n",
            "78/78 [==============================] - 50s 474ms/step - loss: 2.7258 - accuracy: 0.2831 - val_loss: 2.1571 - val_accuracy: 0.3884\n",
            "Epoch 2/10\n",
            "78/78 [==============================] - 27s 321ms/step - loss: 1.7116 - accuracy: 0.5180 - val_loss: 1.7387 - val_accuracy: 0.5249\n",
            "Epoch 3/10\n",
            "78/78 [==============================] - 27s 322ms/step - loss: 1.2540 - accuracy: 0.6431 - val_loss: 1.6806 - val_accuracy: 0.5136\n",
            "Epoch 4/10\n",
            "78/78 [==============================] - 28s 334ms/step - loss: 0.9388 - accuracy: 0.7285 - val_loss: 1.5260 - val_accuracy: 0.5650\n",
            "Epoch 5/10\n",
            "78/78 [==============================] - 30s 368ms/step - loss: 0.7150 - accuracy: 0.8087 - val_loss: 1.5037 - val_accuracy: 0.5618\n",
            "Epoch 6/10\n",
            "78/78 [==============================] - 27s 327ms/step - loss: 0.5726 - accuracy: 0.8480 - val_loss: 1.5019 - val_accuracy: 0.5843\n",
            "Epoch 7/10\n",
            "78/78 [==============================] - 26s 321ms/step - loss: 0.4335 - accuracy: 0.8913 - val_loss: 1.3874 - val_accuracy: 0.6356\n",
            "Epoch 8/10\n",
            "78/78 [==============================] - 26s 309ms/step - loss: 0.3324 - accuracy: 0.9278 - val_loss: 1.3817 - val_accuracy: 0.6051\n",
            "Epoch 9/10\n",
            "78/78 [==============================] - 26s 313ms/step - loss: 0.2682 - accuracy: 0.9447 - val_loss: 1.3564 - val_accuracy: 0.6437\n",
            "Epoch 10/10\n",
            "78/78 [==============================] - 30s 368ms/step - loss: 0.1898 - accuracy: 0.9711 - val_loss: 1.3739 - val_accuracy: 0.6372\n"
          ]
        }
      ]
    },
    {
      "cell_type": "code",
      "source": [
        "import matplotlib.pyplot as plt\n",
        "%matplotlib inline\n",
        "\n",
        "plt.plot(history.history['accuracy'])\n",
        "plt.plot(history.history['val_accuracy'])\n",
        "plt.title('model accuracy')\n",
        "plt.ylabel('accuracy')\n",
        "plt.xlabel('epoch')\n",
        "plt.legend(['train', 'val'], loc='upper left')\n",
        "plt.show()"
      ],
      "metadata": {
        "colab": {
          "base_uri": "https://localhost:8080/",
          "height": 472
        },
        "id": "Uk13oiayK0f1",
        "outputId": "3bfb1666-cd3f-497f-9a20-e59d4b20da9d"
      },
      "execution_count": 16,
      "outputs": [
        {
          "output_type": "display_data",
          "data": {
            "text/plain": [
              "<Figure size 640x480 with 1 Axes>"
            ],
            "image/png": "[encoded data removed]"
          },
          "metadata": {}
        }
      ]
    }
  ]
}