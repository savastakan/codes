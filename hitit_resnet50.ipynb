{
  "nbformat": 4,
  "nbformat_minor": 0,
  "metadata": {
    "colab": {
      "provenance": [],
      "gpuType": "T4",
      "machine_shape": "hm",
      "authorship_tag": "ABX9TyPEQljdEn63JyEyfrlJKnX5",
      "include_colab_link": true
    },
    "kernelspec": {
      "name": "python3",
      "display_name": "Python 3"
    },
    "language_info": {
      "name": "python"
    },
    "accelerator": "GPU"
  },
  "cells": [
    {
      "cell_type": "markdown",
      "metadata": {
        "id": "view-in-github",
        "colab_type": "text"
      },
      "source": [
        "<a href=\"https://colab.research.google.com/github/savastakan/codes/blob/main/hitit_resnet50.ipynb\" target=\"_parent\"><img src=\"https://colab.research.google.com/assets/colab-badge.svg\" alt=\"Open In Colab\"/></a>"
      ]
    },
    {
      "cell_type": "code",
      "execution_count": null,
      "metadata": {
        "id": "4MUfirDj-KNM"
      },
      "outputs": [],
      "source": [
        "import tensorflow as tf\n",
        "from tensorflow.keras.layers import Flatten, Dense\n",
        "from tensorflow.keras.models import Sequential\n",
        "from tensorflow.keras.optimizers import Adam"
      ]
    },
    {
      "cell_type": "code",
      "source": [
        "from google.colab import drive\n",
        "drive.mount('/content/drive')\n"
      ],
      "metadata": {
        "colab": {
          "base_uri": "https://localhost:8080/"
        },
        "id": "xtNhKpFy-yuU",
        "outputId": "0c6ea745-5cef-4358-9787-3e221165804c"
      },
      "execution_count": null,
      "outputs": [
        {
          "output_type": "stream",
          "name": "stdout",
          "text": [
            "Mounted at /content/drive\n"
          ]
        }
      ]
    },
    {
      "cell_type": "code",
      "source": [
        "import pathlib\n",
        "data_directory = pathlib.Path(\"/content/drive/MyDrive/Projeler/hitit_projesi/dataset_with_train_test/train\")"
      ],
      "metadata": {
        "id": "yM_htuLiCY9R"
      },
      "execution_count": null,
      "outputs": []
    },
    {
      "cell_type": "code",
      "source": [
        "img_height,img_width=280, 280\n",
        "batch_size=32\n",
        "\n",
        "train_ds = tf.keras.preprocessing.image_dataset_from_directory(\n",
        "  data_directory,\n",
        "  validation_split=0.2,\n",
        "  subset=\"training\",\n",
        "  seed=42,\n",
        "  label_mode='categorical',\n",
        "  image_size=(img_height, img_width),\n",
        "  batch_size=batch_size)\n",
        "\n",
        "validation_ds = tf.keras.preprocessing.image_dataset_from_directory(\n",
        "  data_directory,\n",
        "  validation_split=0.2,\n",
        "  subset=\"validation\",\n",
        "  seed=42,\n",
        "  label_mode='categorical',\n",
        "  image_size=(img_height, img_width),\n",
        "  batch_size=batch_size)"
      ],
      "metadata": {
        "colab": {
          "base_uri": "https://localhost:8080/"
        },
        "id": "CReAjyTY-UWi",
        "outputId": "c1ace573-7e05-4752-c9ef-b2fd8a978d86"
      },
      "execution_count": null,
      "outputs": [
        {
          "output_type": "stream",
          "name": "stdout",
          "text": [
            "Found 3930 files belonging to 191 classes.\n",
            "Using 3144 files for training.\n",
            "Found 3930 files belonging to 191 classes.\n",
            "Using 786 files for validation.\n"
          ]
        }
      ]
    },
    {
      "cell_type": "code",
      "source": [
        "model = Sequential()\n",
        "pretrained_model= tf.keras.applications.ResNet50(include_top=False, input_shape=(280,280,3), pooling='avg',classes=191, weights='imagenet')\n",
        "\n",
        "for each_layer in pretrained_model.layers:\n",
        "        each_layer.trainable=False\n",
        "\n",
        "model.add(pretrained_model)\n",
        "\n",
        "model.add(Flatten())\n",
        "\n",
        "model.add(Dense(512, activation='relu'))\n",
        "\n",
        "model.add(Dense(191, activation='softmax'))"
      ],
      "metadata": {
        "colab": {
          "base_uri": "https://localhost:8080/"
        },
        "id": "d0vtbSTUFSk1",
        "outputId": "b276093b-3ceb-4471-ed74-c33f1ce7a8d0"
      },
      "execution_count": null,
      "outputs": [
        {
          "output_type": "stream",
          "name": "stdout",
          "text": [
            "Downloading data from https://storage.googleapis.com/tensorflow/keras-applications/resnet/resnet50_weights_tf_dim_ordering_tf_kernels_notop.h5\n",
            "94765736/94765736 [==============================] - 1s 0us/step\n"
          ]
        }
      ]
    },
    {
      "cell_type": "code",
      "source": [
        "model.compile(optimizer=Adam(learning_rate=0.001),loss='categorical_crossentropy',metrics=['accuracy'])\n",
        "\n",
        "history = model.fit(train_ds, validation_data=validation_ds, epochs=10)"
      ],
      "metadata": {
        "colab": {
          "base_uri": "https://localhost:8080/"
        },
        "id": "NaXaFnR_Fq9L",
        "outputId": "9a178538-677d-4eb2-ee7f-5585a10ff793"
      },
      "execution_count": null,
      "outputs": [
        {
          "output_type": "stream",
          "name": "stdout",
          "text": [
            "Epoch 1/10\n",
            "99/99 [==============================] - 690s 6s/step - loss: 3.9990 - accuracy: 0.1762 - val_loss: 3.5331 - val_accuracy: 0.2239\n",
            "Epoch 2/10\n",
            "99/99 [==============================] - 31s 296ms/step - loss: 2.9481 - accuracy: 0.3441 - val_loss: 3.1154 - val_accuracy: 0.2837\n",
            "Epoch 3/10\n",
            "99/99 [==============================] - 30s 291ms/step - loss: 2.3230 - accuracy: 0.4523 - val_loss: 2.9278 - val_accuracy: 0.3346\n",
            "Epoch 4/10\n",
            "99/99 [==============================] - 32s 304ms/step - loss: 1.8293 - accuracy: 0.5534 - val_loss: 2.7660 - val_accuracy: 0.3791\n",
            "Epoch 5/10\n",
            "99/99 [==============================] - 30s 289ms/step - loss: 1.4180 - accuracy: 0.6473 - val_loss: 2.6417 - val_accuracy: 0.4186\n",
            "Epoch 6/10\n",
            "99/99 [==============================] - 31s 294ms/step - loss: 1.1184 - accuracy: 0.7128 - val_loss: 2.5616 - val_accuracy: 0.4491\n",
            "Epoch 7/10\n",
            "99/99 [==============================] - 32s 294ms/step - loss: 0.8643 - accuracy: 0.7878 - val_loss: 2.6248 - val_accuracy: 0.4567\n",
            "Epoch 8/10\n",
            "99/99 [==============================] - 35s 336ms/step - loss: 0.6798 - accuracy: 0.8413 - val_loss: 2.6240 - val_accuracy: 0.4695\n",
            "Epoch 9/10\n",
            "99/99 [==============================] - 35s 340ms/step - loss: 0.5325 - accuracy: 0.8779 - val_loss: 2.6187 - val_accuracy: 0.4784\n",
            "Epoch 10/10\n",
            "99/99 [==============================] - 31s 295ms/step - loss: 0.4032 - accuracy: 0.9218 - val_loss: 2.5805 - val_accuracy: 0.4911\n"
          ]
        }
      ]
    },
    {
      "cell_type": "code",
      "source": [
        "import matplotlib.pyplot as plt\n",
        "%matplotlib inline\n",
        "\n",
        "plt.plot(history.history['accuracy'])\n",
        "plt.plot(history.history['val_accuracy'])\n",
        "plt.title('model accuracy')\n",
        "plt.ylabel('accuracy')\n",
        "plt.xlabel('epoch')\n",
        "plt.legend(['train', 'val'], loc='upper left')\n",
        "plt.show()"
      ],
      "metadata": {
        "colab": {
          "base_uri": "https://localhost:8080/",
          "height": 472
        },
        "id": "Uk13oiayK0f1",
        "outputId": "baf5d25c-cab6-4d7e-e752-c4e0388e0348"
      },
      "execution_count": null,
      "outputs": [
        {
          "output_type": "display_data",
          "data": {
            "text/plain": [
              "<Figure size 640x480 with 1 Axes>"
            ],
            "image/png": "[encoded data removed]"
          },
          "metadata": {}
        }
      ]
    }
  ]
}